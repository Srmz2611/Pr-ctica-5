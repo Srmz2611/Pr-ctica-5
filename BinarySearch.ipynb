{
  "nbformat": 4,
  "nbformat_minor": 0,
  "metadata": {
    "colab": {
      "name": "BinarySearch.ipynb",
      "provenance": [],
      "authorship_tag": "ABX9TyNUR2vspdd5BWxt2XHXLSDH",
      "include_colab_link": true
    },
    "kernelspec": {
      "name": "python3",
      "display_name": "Python 3"
    }
  },
  "cells": [
    {
      "cell_type": "markdown",
      "metadata": {
        "id": "view-in-github",
        "colab_type": "text"
      },
      "source": [
        "<a href=\"https://colab.research.google.com/github/Srmz2611/Practica05/blob/main/BinarySearch.ipynb\" target=\"_parent\"><img src=\"https://colab.research.google.com/assets/colab-badge.svg\" alt=\"Open In Colab\"/></a>"
      ]
    },
    {
      "cell_type": "markdown",
      "metadata": {
        "id": "NatIfeyRtT8v"
      },
      "source": [
        "Serrano Ramírez Viviana\n",
        "\n",
        "30 de Noviembre de 2020"
      ]
    },
    {
      "cell_type": "markdown",
      "metadata": {
        "id": "MxTB_Fgnszdk"
      },
      "source": [
        "# Binary Search"
      ]
    },
    {
      "cell_type": "code",
      "metadata": {
        "colab": {
          "base_uri": "https://localhost:8080/"
        },
        "id": "Ws6qwzjDssCQ",
        "outputId": "b6d35309-6987-49b0-9486-c5a6b50f7ec6"
      },
      "source": [
        "# Regresa la posición de x si se encuentra presente en el arreglo, sino -1 \n",
        "def binary_search(arr, low, high, x): \n",
        "  \n",
        "    # Caso base \n",
        "    if high >= low: \n",
        "  \n",
        "        mid = (high + low) // 2\n",
        "  \n",
        "        # Si el elemento esta justamente en la mitad del arreglo\n",
        "        if arr[mid] == x: \n",
        "            return mid \n",
        "  \n",
        "        # Si el elemento es menor que el elemento en la mitad, entonces  \n",
        "        # solo puede estar presente el subarreglo izquierdo\n",
        "        elif arr[mid] > x: \n",
        "            return binary_search(arr, low, mid - 1, x) \n",
        "  \n",
        "        # En caso contrario está en el subarreglo derecho \n",
        "        else: \n",
        "            return binary_search(arr, mid + 1, high, x) \n",
        "  \n",
        "    else: \n",
        "        # No se encontro el elemento en el arreglo \n",
        "        return -1\n",
        "  \n",
        "# Test array \n",
        "arr = [ 2, 3, 4, 10, 40 ] \n",
        "x = 3\n",
        "  \n",
        "# Llamada a la función \n",
        "result = binary_search(arr, 0, len(arr)-1, x) \n",
        "  \n",
        "if result != -1: \n",
        "    print(\"El elemento se encuentra en la posición \", str(result+1),\"del arreglo\") \n",
        "else: \n",
        "    print(\"No se encontró el elemento en el arreglo\")"
      ],
      "execution_count": null,
      "outputs": [
        {
          "output_type": "stream",
          "text": [
            "El elemento se encuentra en la posición  2 del arreglo\n"
          ],
          "name": "stdout"
        }
      ]
    }
  ]
}