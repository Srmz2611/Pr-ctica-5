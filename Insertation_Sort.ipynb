{
  "nbformat": 4,
  "nbformat_minor": 0,
  "metadata": {
    "colab": {
      "name": "Insertation Sort.ipynb",
      "provenance": [],
      "authorship_tag": "ABX9TyPMGNiCKp+op06EC0w7neoN",
      "include_colab_link": true
    },
    "kernelspec": {
      "name": "python3",
      "display_name": "Python 3"
    }
  },
  "cells": [
    {
      "cell_type": "markdown",
      "metadata": {
        "id": "view-in-github",
        "colab_type": "text"
      },
      "source": [
        "<a href=\"https://colab.research.google.com/github/Srmz2611/Practica05/blob/main/Insertation_Sort.ipynb\" target=\"_parent\"><img src=\"https://colab.research.google.com/assets/colab-badge.svg\" alt=\"Open In Colab\"/></a>"
      ]
    },
    {
      "cell_type": "code",
      "metadata": {
        "colab": {
          "base_uri": "https://localhost:8080/"
        },
        "id": "IDJfAUKQ7KaJ",
        "outputId": "cd7d412e-48bf-48b0-8016-f00929362031"
      },
      "source": [
        "def insertionSort(arr): \n",
        " \n",
        "    for i in range(1, len(arr)): \n",
        " \n",
        " \n",
        "        key = arr[i] \n",
        " \n",
        " \n",
        "        j = i-1\n",
        " \n",
        "        while j >=0 and key < arr[j] : \n",
        " \n",
        "                arr[j+1] = arr[j] \n",
        " \n",
        "                j -= 1\n",
        " \n",
        "        arr[j+1] = key \n",
        " \n",
        " \n",
        "arr = [12, 11, 13, 5, 6] \n",
        "insertionSort(arr) \n",
        " \n",
        "print (\"Sorted array is:\") \n",
        " \n",
        "for i in range(len(arr)): \n",
        " \n",
        "    print (\"%d\" %arr[i])"
      ],
      "execution_count": 1,
      "outputs": [
        {
          "output_type": "stream",
          "text": [
            "Sorted array is:\n",
            "5\n",
            "6\n",
            "11\n",
            "12\n",
            "13\n"
          ],
          "name": "stdout"
        }
      ]
    }
  ]
}